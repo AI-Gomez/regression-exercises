{
 "cells": [
  {
   "cell_type": "markdown",
   "metadata": {},
   "source": [
    "# Distributions Warmup\n",
    "\n",
    "It's another day at the office at Big Research Co ™. You look up from your laptop and see a woman in a lab coat standing in front of your desk.\n",
    "\n",
    "\"I need some help\" she says. \"We lost some subjects from the trial.\"\n",
    "\n",
    "She notices a curious look on your face.\n",
    "\n",
    "\"Not like that, they just ran away. We didn't lock the doors soon enough.\"\n",
    "\n",
    "\"Anyway, there's probably like a 70%, no maybe 80%, no, let's say 90% chance that a given subject will stick around, and I need to run the study again with 10, or 20 subjects. We need to gather enough data on them to justify the cost, so I need you to figure out what are the probabilities are that at least half of them stick around, only 1 person leaves, and that all the subjects stay.\"\n",
    "\n",
    "She sees you start to form another question and cuts you off.\n",
    "\n",
    "\"Don't ask. You really don't want to know.\"\n",
    "\n",
    "What probability distribution would you use to model the scenario outlined above?\n",
    "Calculate all the requested probabilities. Use all the possible combinations of subject count and chance that a subject will stay in the study.\n",
    "Bonus: visualize the requested probabilities.\n",
    "\n",
    "# Hints\n",
    "\n",
    "Use scipy.stats for this.\n",
    "A fancy list comprehension or the itertools module can help you find all the possible combinations.\n",
    "Consider storing the results of your calculations in a data frame."
   ]
  },
  {
   "cell_type": "code",
   "execution_count": 1,
   "metadata": {},
   "outputs": [],
   "source": [
    "from scipy import stats\n",
    "from scipy.stats import norm, binom\n"
   ]
  },
  {
   "cell_type": "code",
   "execution_count": 2,
   "metadata": {},
   "outputs": [
    {
     "name": "stdout",
     "output_type": "stream",
     "text": [
      "0.02824752489999998\n",
      "0.9526510126\n",
      "0.12106082100000007\n"
     ]
    }
   ],
   "source": [
    "p=.7\n",
    "n=10\n",
    "\n",
    "all_stay = stats.binom(n,p).pmf(n)\n",
    "half_stay = stats.binom(n,p).sf(4)\n",
    "one_leaves = stats.binom(n,p).pmf(n-1)\n",
    "\n",
    "print(all_stay)\n",
    "print(half_stay)\n",
    "print(one_leaves)"
   ]
  },
  {
   "cell_type": "code",
   "execution_count": 3,
   "metadata": {},
   "outputs": [
    {
     "name": "stdout",
     "output_type": "stream",
     "text": [
      "0.10737418240000005\n",
      "0.9936306176\n",
      "0.26843545600000035\n"
     ]
    }
   ],
   "source": [
    "p=.8\n",
    "n=10\n",
    "\n",
    "all_stay = stats.binom(n,p).pmf(n)\n",
    "half_stay = stats.binom(n,p).sf(4)\n",
    "one_leaves = stats.binom(n,p).pmf(n-1)\n",
    "\n",
    "print(all_stay)\n",
    "print(half_stay)\n",
    "print(one_leaves)"
   ]
  },
  {
   "cell_type": "code",
   "execution_count": 4,
   "metadata": {},
   "outputs": [
    {
     "name": "stdout",
     "output_type": "stream",
     "text": [
      "0.34867844010000004\n",
      "0.9998530974\n",
      "0.38742048900000037\n"
     ]
    }
   ],
   "source": [
    "p=.9\n",
    "n=10\n",
    "\n",
    "all_stay = stats.binom(n,p).pmf(n)\n",
    "half_stay = stats.binom(n,p).sf(4)\n",
    "one_leaves = stats.binom(n,p).pmf(n-1)\n",
    "\n",
    "print(all_stay)\n",
    "print(half_stay)\n",
    "print(one_leaves)"
   ]
  },
  {
   "cell_type": "code",
   "execution_count": 5,
   "metadata": {},
   "outputs": [
    {
     "name": "stdout",
     "output_type": "stream",
     "text": [
      "0.02824752489999998\n",
      "0.9526510126\n",
      "0.12106082100000007\n"
     ]
    }
   ],
   "source": [
    "p=.7\n",
    "n=10\n",
    "\n",
    "all_stay = stats.binom(n,p).pmf(n)\n",
    "half_stay = stats.binom(n,p).sf(4)\n",
    "one_leaves = stats.binom(n,p).pmf(n-1)\n",
    "\n",
    "print(all_stay)\n",
    "print(half_stay)\n",
    "print(one_leaves)"
   ]
  },
  {
   "cell_type": "code",
   "execution_count": 6,
   "metadata": {},
   "outputs": [
    {
     "data": {
      "text/plain": [
       "0.9994365863023398"
      ]
     },
     "execution_count": 6,
     "metadata": {},
     "output_type": "execute_result"
    }
   ],
   "source": [
    "p=.8\n",
    "n=20\n",
    "\n",
    "stats.binom(n,p).sf(9)"
   ]
  },
  {
   "cell_type": "code",
   "execution_count": 7,
   "metadata": {},
   "outputs": [
    {
     "data": {
      "text/plain": [
       "0.9999992911393668"
      ]
     },
     "execution_count": 7,
     "metadata": {},
     "output_type": "execute_result"
    }
   ],
   "source": [
    "p=.9\n",
    "n=20\n",
    "\n",
    "stats.binom(n,p).sf(9)"
   ]
  },
  {
   "cell_type": "code",
   "execution_count": 8,
   "metadata": {},
   "outputs": [],
   "source": [
    "######################## Walkthru ########################\n",
    "import itertools as it\n",
    "from scipy import stats\n",
    "import pandas as pd\n",
    "import numpy as np\n",
    "\n",
    "import matplotlib.pyplot as plt\n",
    "import seaborn as sns"
   ]
  },
  {
   "cell_type": "code",
   "execution_count": 13,
   "metadata": {},
   "outputs": [
    {
     "data": {
      "text/plain": [
       "<seaborn.axisgrid.FacetGrid at 0x7fa9f1cb13d0>"
      ]
     },
     "execution_count": 13,
     "metadata": {},
     "output_type": "execute_result"
    },
    {
     "data": {
      "image/png": "[encoded data removed]",
      "text/plain": [
       "<Figure size 778.25x360 with 2 Axes>"
      ]
     },
     "metadata": {
      "needs_background": "light"
     },
     "output_type": "display_data"
    }
   ],
   "source": [
    "ps = [.7, .8, .9]\n",
    "ns = [10, 20]\n",
    "ks = range(21)\n",
    "\n",
    "cdfs = [(p, n, k, stats.binom(n, p).cdf(k)) for p, n, k in it.product(ps, ns, ks)]\n",
    "df = pd.DataFrame(cdfs, columns=['p', 'n', 'k', 'cdf(k)'])\n",
    "df.loc[(df.n == 10) & (df.k > 10), 'cdf(k)'] = np.nan\n",
    "df = df.dropna()\n",
    "\n",
    "sns.relplot(data=df, x='k', y='cdf(k)', col='n', hue='p')"
   ]
  },
  {
   "cell_type": "code",
   "execution_count": 14,
   "metadata": {},
   "outputs": [
    {
     "data": {
      "text/plain": [
       "<seaborn.axisgrid.FacetGrid at 0x7fa9f1b79ad0>"
      ]
     },
     "execution_count": 14,
     "metadata": {},
     "output_type": "execute_result"
    },
    {
     "data": {
      "image/png": "[encoded data removed]",
      "text/plain": [
       "<Figure size 778.25x360 with 2 Axes>"
      ]
     },
     "metadata": {
      "needs_background": "light"
     },
     "output_type": "display_data"
    }
   ],
   "source": [
    "ps = [.7, .8, .9]\n",
    "ns = [10, 20]\n",
    "ks = range(21)\n",
    "\n",
    "cdfs = [(p, n, k, stats.binom(n, p).sf(k)) for p, n, k in it.product(ps, ns, ks)]\n",
    "df = pd.DataFrame(cdfs, columns=['p', 'n', 'k', 'cdf(k)'])\n",
    "df.loc[(df.n == 10) & (df.k > 10), 'cdf(k)'] = np.nan\n",
    "df = df.dropna()\n",
    "\n",
    "sns.relplot(data=df, x='k', y='cdf(k)', col='n', hue='p')"
   ]
  },
  {
   "cell_type": "code",
   "execution_count": 11,
   "metadata": {},
   "outputs": [
    {
     "name": "stdout",
     "output_type": "stream",
     "text": [
      "---\n",
      "        n = 10, p = 0.7\n",
      "        P(at least half stay) = 0.9527\n",
      "        P(one subject leaves) = 0.121061\n",
      "        P(all the subjects stay) = 0.028248\n",
      "        \n",
      "---\n",
      "        n = 20, p = 0.7\n",
      "        P(at least half stay) = 0.9829\n",
      "        P(one subject leaves) = 0.006839\n",
      "        P(all the subjects stay) = 0.000798\n",
      "        \n",
      "---\n",
      "        n = 10, p = 0.8\n",
      "        P(at least half stay) = 0.9936\n",
      "        P(one subject leaves) = 0.268435\n",
      "        P(all the subjects stay) = 0.107374\n",
      "        \n",
      "---\n",
      "        n = 20, p = 0.8\n",
      "        P(at least half stay) = 0.9994\n",
      "        P(one subject leaves) = 0.057646\n",
      "        P(all the subjects stay) = 0.011529\n",
      "        \n",
      "---\n",
      "        n = 10, p = 0.9\n",
      "        P(at least half stay) = 0.9999\n",
      "        P(one subject leaves) = 0.387420\n",
      "        P(all the subjects stay) = 0.348678\n",
      "        \n",
      "---\n",
      "        n = 20, p = 0.9\n",
      "        P(at least half stay) = 1.0000\n",
      "        P(one subject leaves) = 0.270170\n",
      "        P(all the subjects stay) = 0.121577\n",
      "        \n"
     ]
    }
   ],
   "source": [
    "#################### walkthru answer #####################\n",
    "ps = [.7, .8, .9]\n",
    "ns = [10, 20]\n",
    "\n",
    "for p in ps:\n",
    "    for n in ns:\n",
    "        # calculate the probability that:\n",
    "        # least half of them stick around, only 1 person leaves, and that all the subjects stay.\n",
    "        p_at_least_half = stats.binom(n, p).sf((n / 2) - 1)\n",
    "        p_one_leaves = stats.binom(n, p).pmf(n - 1)\n",
    "        p_all_stay = stats.binom(n, p).pmf(n)\n",
    "        \n",
    "        print(f'''---\n",
    "        n = {n}, p = {p}\n",
    "        P(at least half stay) = {p_at_least_half:.4f}\n",
    "        P(one subject leaves) = {p_one_leaves:4f}\n",
    "        P(all the subjects stay) = {p_all_stay:4f}\n",
    "        ''')"
   ]
  },
  {
   "cell_type": "code",
   "execution_count": null,
   "metadata": {},
   "outputs": [],
   "source": []
  },
  {
   "cell_type": "code",
   "execution_count": null,
   "metadata": {},
   "outputs": [],
   "source": []
  }
 ],
 "metadata": {
  "kernelspec": {
   "display_name": "Python 3",
   "language": "python",
   "name": "python3"
  },
  "language_info": {
   "codemirror_mode": {
    "name": "ipython",
    "version": 3
   },
   "file_extension": ".py",
   "mimetype": "text/x-python",
   "name": "python",
   "nbconvert_exporter": "python",
   "pygments_lexer": "ipython3",
   "version": "3.7.6"
  }
 },
 "nbformat": 4,
 "nbformat_minor": 4
}
